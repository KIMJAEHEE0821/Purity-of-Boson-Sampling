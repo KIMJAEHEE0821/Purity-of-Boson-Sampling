{
 "cells": [
  {
   "cell_type": "markdown",
   "id": "d9c2c57a",
   "metadata": {},
   "source": [
    "## This is code for calculating weingarten function\n",
    "\n",
    "#Full Process\n",
    "## 1. Use sympy to symbolically express the purity of boson sampling.\n",
    "## 2. Convert the results of sympy to mathematica language.(Bucause I use mathematica package IntU for calculating wiengarten fuction, we need this process. If you find other good package on python, you don't need this process)\n",
    "## 3. By using Wolfram Client Library for python, We calculate weingarten function"
   ]
  },
  {
   "cell_type": "code",
   "execution_count": 1,
   "id": "1ff9554d",
   "metadata": {},
   "outputs": [],
   "source": [
    "import sympy\n",
    "from sympy import MatrixSymbol, Matrix, Transpose, shape, simplify\n",
    "from sympy.physics.quantum.dagger import Dagger\n",
    "from sympy.matrices import zeros, ones\n",
    "from sympy import latex"
   ]
  },
  {
   "cell_type": "code",
   "execution_count": 2,
   "id": "67702e68",
   "metadata": {},
   "outputs": [],
   "source": [
    "from wolframclient.evaluation import WolframLanguageSession\n",
    "from wolframclient.language import wl, wlexpr"
   ]
  },
  {
   "cell_type": "code",
   "execution_count": 18,
   "id": "64766755",
   "metadata": {},
   "outputs": [],
   "source": [
    "from fractions import Fraction\n",
    "from sympy.printing import pycode\n",
    "import re\n",
    "import sympy as sp"
   ]
  },
  {
   "cell_type": "markdown",
   "id": "63921046",
   "metadata": {},
   "source": [
    "# ----------------\n",
    "# 1. Calculating purity of the weingartne function"
   ]
  },
  {
   "cell_type": "code",
   "execution_count": 4,
   "id": "f3a2142e",
   "metadata": {},
   "outputs": [],
   "source": [
    "import numpy as np\n",
    "\n",
    "# set the random seed\n",
    "np.random.seed(42)\n",
    "\n",
    "# import Strawberry Fields\n",
    "import strawberryfields as sf\n",
    "from strawberryfields.ops import *\n",
    "from strawberryfields import ops\n",
    "\n",
    "import itertools\n",
    "from math import comb, sqrt, factorial\n",
    "\n",
    "from numpy import ndarray"
   ]
  },
  {
   "attachments": {},
   "cell_type": "markdown",
   "id": "9fe9cf32",
   "metadata": {},
   "source": [
    "https://strawberryfields.readthedocs.io/en/stable/code/api/strawberryfields.utils.random_interferometer.html"
   ]
  },
  {
   "cell_type": "code",
   "execution_count": 5,
   "id": "8865dde4",
   "metadata": {},
   "outputs": [],
   "source": [
    "def fock_generator(q, i):\n",
    "    ops.Fock(1) | q[i]"
   ]
  },
  {
   "cell_type": "code",
   "execution_count": 6,
   "id": "6d70a272",
   "metadata": {},
   "outputs": [],
   "source": [
    "def vac_generator(q, N, i):\n",
    "    ops.Vac | q[N + i]"
   ]
  },
  {
   "cell_type": "code",
   "execution_count": null,
   "id": "627e45d7",
   "metadata": {},
   "outputs": [],
   "source": [
    "# Here we just make a circuit for boson sampling. \n",
    "def circuit_generator(N, M): #N is the number of single photons and M is the mode number. \n",
    "    U = sf.utils.random_interferometer(M) \n",
    "    \n",
    "    U_s = Matrix(MatrixSymbol('U', M, M))\n",
    "\n",
    "    # initialize a 4 mode program\n",
    "    boson_sampling = sf.Program(M) #This is just initialization for making quantum circuit for photon. Not for just boson sampling. It is just initialization. \n",
    "\n",
    "    with boson_sampling.context as q:\n",
    "        # prepare the input fock states\n",
    "        for i in range(N):\n",
    "            fock_generator(q, i)\n",
    "        for i in range(M-N):\n",
    "            vac_generator(q, N, i)\n",
    "\n",
    "        ops.Interferometer(U) | q\n",
    "    return U, U_s, boson_sampling\n"
   ]
  },
  {
   "cell_type": "code",
   "execution_count": 8,
   "id": "6cd44d2f",
   "metadata": {},
   "outputs": [],
   "source": [
    "# Compute the coefficients for purity\n",
    "def compute_coefficients(s, M):\n",
    "    # Padding s with zeros if M > len(s)\n",
    "    if M > len(s):\n",
    "        s += [0] * (M - len(s))\n",
    "    #print(s)\n",
    "    \n",
    "    S = sum(s)\n",
    "    v = [range(i+1) for i in s]\n",
    "    #print(v)\n",
    "    combinations = list(itertools.product(*v))\n",
    "    \n",
    "    A = []\n",
    "    xi = []\n",
    "    x = []\n",
    "    xi_no_z = []\n",
    "    x_no_z = []\n",
    "    \n",
    "    for combo in combinations:\n",
    "        h = [(s[i]/2) - combo[i] for i in range(M)]\n",
    "        h_1 = [(s[i]/2) - combo[i] for i in range(S)]\n",
    "        #print(h)\n",
    "        \n",
    "        part1 = (-1)**sum(combo)\n",
    "        part2 = np.prod([comb(s[i], combo[i]) for i in range(M)])\n",
    "        part3 = (sum([abs(h_i)**2 for h_i in h]) ** (S/2)) / sqrt(factorial(S))\n",
    "        \n",
    "        A_k = part1 * part2 * part3\n",
    "        xi_k = [h_i / (sum([abs(h_j)**2 for h_j in h])** (S/2)) for h_i in h]\n",
    "        xi_k_1 = [h_i / (sum([abs(h_j)**2 for h_j in h_1])** (S/2)) for h_i in h_1]\n",
    "        x_k = [h_i *2 for h_i in h]\n",
    "        x_k_1 = [h_i *2 for h_i in h_1]\n",
    "\n",
    "        A.append(A_k)\n",
    "        xi.append(xi_k)\n",
    "        x.append(x_k)\n",
    "        xi_no_z.append(xi_k_1)\n",
    "        x_no_z.append(x_k_1)\n",
    "    \n",
    "    return np.array(A), np.array(xi), np.array(x), np.array(xi_no_z), np.array(x_no_z)"
   ]
  },
  {
   "attachments": {},
   "cell_type": "markdown",
   "id": "87732aa9",
   "metadata": {},
   "source": [
    "## Generate $\\Lambda_L$ and $\\Lambda_R$"
   ]
  },
  {
   "cell_type": "code",
   "execution_count": 9,
   "id": "593d1cb7",
   "metadata": {},
   "outputs": [],
   "source": [
    "def Lambda_generator(U, U_s,S,ML):\n",
    "    u_l = U[0:S, 0:ML]\n",
    "    u_l_s = U_s[0:S, 0:ML]\n",
    "    u_l_d = u_l.conj().T\n",
    "    u_l_d_s = Dagger(u_l_s)\n",
    "    lambda_L = np.matmul(u_l, u_l_d)\n",
    "    lambda_L_s = u_l_s@u_l_d_s\n",
    "    u_r = U[0:S, ML:]\n",
    "    u_r_s = U_s[0:S, ML:]\n",
    "    u_r_d = u_r.conj().T\n",
    "    u_r_d_s = Dagger(u_r_s)\n",
    "    lambda_R = np.matmul(u_r, u_r_d)\n",
    "    lambda_R_s = u_r_s@u_r_d_s\n",
    "    return lambda_L, lambda_R, lambda_L_s, lambda_R_s"
   ]
  },
  {
   "attachments": {},
   "cell_type": "markdown",
   "id": "610f5d69",
   "metadata": {},
   "source": [
    "## Calculate $Tr(\\rho^2)$"
   ]
  },
  {
   "cell_type": "code",
   "execution_count": 10,
   "id": "56e75e96",
   "metadata": {},
   "outputs": [],
   "source": [
    "def tr_rho_L2(x_no_z, S, Lambda_L, Lambda_R, Lambda_L_s, Lambda_R_s):\n",
    "    save = []\n",
    "    save_coeff = []\n",
    "    result = 0\n",
    "    result_s = zeros(1)\n",
    "    factor = (1/2)**(4*S)\n",
    "    #print(factor)\n",
    "    #print(x_no_z, S, Lambda_L, Lambda_R, Lambda_L_s, Lambda_R_s) #이걸 검사해본 결과, Lambda_L_s\n",
    "\n",
    "    # Calculate each term in the summation\n",
    "    for n in range(S+1):\n",
    "        term1 = 1 / (factorial(S-n)*factorial(n))**2\n",
    "        save_coeff.append(factor * term1)\n",
    "        total_sum = 0\n",
    "        total_sum_s = zeros(1)\n",
    "\n",
    "        # Iterate through all the indices k, l, k', l'\n",
    "        for k, l, k_prime, l_prime in itertools.product(range(2**S), repeat=4):\n",
    "            prod = 1\n",
    "\n",
    "            for i in range(S):\n",
    "                x_k = x_no_z[k][i]\n",
    "                x_l = x_no_z[l][i]\n",
    "                x_k_prime = x_no_z[k_prime][i]\n",
    "                x_l_prime = x_no_z[l_prime][i]\n",
    "                \n",
    "                prod *= x_k * x_l * x_k_prime * x_l_prime\n",
    "\n",
    "            term2 = prod * np.power(np.dot(np.dot(x_no_z[k_prime], Lambda_L), x_no_z[l][:,None]) * np.dot(np.dot(x_no_z[k], Lambda_L), x_no_z[l_prime][:, None]), S-n)\n",
    "            term2_s = prod * (Transpose(Matrix(x_no_z[k_prime])) @ Lambda_L_s @ Matrix(x_no_z[l]) @ Transpose(Matrix(x_no_z[k])) @ Lambda_L_s @ Matrix(x_no_z[l_prime]))**(S-n)\n",
    "            term3 = np.power(np.dot(np.dot(x_no_z[k], Lambda_R), x_no_z[l][:,None]) * np.dot(np.dot(x_no_z[k_prime], Lambda_R), x_no_z[l_prime][:,None]), n)\n",
    "            term3_s = (Transpose(Matrix(x_no_z[k]))@Lambda_R_s@Matrix(x_no_z[l])@Transpose(Matrix(x_no_z[k_prime]))@Lambda_R_s@Matrix(x_no_z[l_prime]))**n\n",
    "            total_sum += term2 * term3\n",
    "            total_sum_s += term2_s*term3_s\n",
    "            # save.append(term3)\n",
    "\n",
    "        result += term1 * total_sum\n",
    "        result_s += term1* total_sum_s\n",
    "    \n",
    "    return factor * result, factor * result_s"
   ]
  },
  {
   "cell_type": "markdown",
   "id": "6cfeee8f-deea-434b-ae07-8d2281962c35",
   "metadata": {},
   "source": [
    "## result_s is a form of multiplication, result_s_exp is a result after we expand all equation of the result_s."
   ]
  },
  {
   "cell_type": "code",
   "execution_count": 11,
   "id": "895427dc",
   "metadata": {},
   "outputs": [],
   "source": [
    "def purity_calculator(s, M, ML):\n",
    "    S = sum(s)\n",
    "    U, U_s, boson_sampling = circuit_generator(S, M)\n",
    "    A, xi, x, xi_no_z, x_no_z = compute_coefficients(s, M)\n",
    "    Lambda_L, Lambda_R, Lambda_L_s, Lambda_R_s = Lambda_generator(U, U_s,S,ML)\n",
    "    result, result_s = tr_rho_L2(x_no_z, S, Lambda_L, Lambda_R, Lambda_L_s, Lambda_R_s)\n",
    "    return U, result, U_s, sympy.expand(result_s), result_s"
   ]
  },
  {
   "cell_type": "markdown",
   "id": "f288cb42",
   "metadata": {},
   "source": [
    "# Like below, you can get a purity of the boson sampling"
   ]
  },
  {
   "cell_type": "code",
   "execution_count": 12,
   "id": "5d6e8e3b",
   "metadata": {},
   "outputs": [],
   "source": [
    "s = [1,1] # Example\n",
    "M = 4\n",
    "ML = int(M/2)\n",
    "U, result, U_s, result_s_exp, result_s = purity_calculator(s, M, ML)"
   ]
  },
  {
   "cell_type": "markdown",
   "id": "b3268227",
   "metadata": {},
   "source": [
    "# ㅡㅡㅡㅡㅡㅡㅡㅡㅡㅡㅡㅡㅡㅡㅡㅡㅡ\n",
    "\n",
    "## The code below is a code that changes the sympy result to mathematica language."
   ]
  },
  {
   "cell_type": "code",
   "execution_count": 15,
   "id": "67ed025f",
   "metadata": {},
   "outputs": [
    {
     "data": {
      "text/plain": [
       "'IntegrateUnitaryHaar[Conjugate[Subscript[u, 0, 0]] Conjugate[Subscript[u, 0, 1]] Conjugate[Subscript[u, 1, 0]]^2 Subscript[u, 0, 0]^2 Subscript[u, 1, 0] Subscript[u, 1, 1], {u, d}]'"
      ]
     },
     "execution_count": 15,
     "metadata": {},
     "output_type": "execute_result"
    }
   ],
   "source": [
    "def sympy_to_mathematica_complete_with_integration(sympy_expr):\n",
    "    # Pattern to match \\overline{U_{i, j}}^{k} format\n",
    "    pattern_exponent_conjugate = r\"\\\\overline{U_{(\\d+), (\\d+)}}\\^{(\\d+)}\"\n",
    "    # Pattern to match \\overline{U_{i, j}} format\n",
    "    pattern_simple_conjugate = r\"\\\\overline{U_{(\\d+), (\\d+)}}\"\n",
    "    # Pattern to match U_{i, j}^{k} format\n",
    "    pattern_exponent = r\"U_{(\\d+), (\\d+)}\\^{(\\d+)}\"\n",
    "    # Pattern to match U_{i, j} format\n",
    "    pattern_simple = r\"U_{(\\d+), (\\d+)}\"\n",
    "\n",
    "    # Function to replace matched conjugate patterns with exponent\n",
    "    def repl_exponent_conjugate(match):\n",
    "        i, j, k = match.groups()\n",
    "        return f\"Conjugate[Subscript[u, {i}, {j}]]^{k}\"\n",
    "\n",
    "    # Function to replace matched simple conjugate patterns\n",
    "    def repl_simple_conjugate(match):\n",
    "        i, j = match.groups()\n",
    "        return f\"Conjugate[Subscript[u, {i}, {j}]]\"\n",
    "\n",
    "    # Function to replace matched patterns with exponent (non-conjugate)\n",
    "    def repl_exponent(match):\n",
    "        i, j, k = match.groups()\n",
    "        return f\"Subscript[u, {i}, {j}]^{k}\"\n",
    "\n",
    "    # Function to replace matched simple patterns (non-conjugate)\n",
    "    def repl_simple(match):\n",
    "        i, j = match.groups()\n",
    "        return f\"Subscript[u, {i}, {j}]\"\n",
    "\n",
    "    # Apply replacements in a sequence to avoid duplications\n",
    "    transformed_expr = re.sub(pattern_exponent_conjugate, repl_exponent_conjugate, sympy_expr)\n",
    "    transformed_expr = re.sub(pattern_simple_conjugate, repl_simple_conjugate, transformed_expr)\n",
    "    transformed_expr = re.sub(pattern_exponent, repl_exponent, transformed_expr)\n",
    "    transformed_expr = re.sub(pattern_simple, repl_simple, transformed_expr)\n",
    "\n",
    "    # Adding integration syntax\n",
    "    return f\"IntegrateUnitaryHaar[{transformed_expr}, {{u, d}}]\"\n",
    "\n",
    "# Example usage\n",
    "example_sympy_expr = '\\\\overline{U_{0, 0}} \\\\overline{U_{0, 1}} \\\\overline{U_{1, 0}}^{2} U_{0, 0}^{2} U_{1, 0} U_{1, 1}'\n",
    "mathematica_expr_with_integration = sympy_to_mathematica_complete_with_integration(example_sympy_expr)\n",
    "mathematica_expr_with_integration\n"
   ]
  },
  {
   "cell_type": "markdown",
   "id": "abad1f0b",
   "metadata": {},
   "source": [
    "## ㅡㅡㅡㅡㅡㅡㅡㅡㅡㅡㅡㅡㅡㅡㅡㅡㅡㅡㅡ"
   ]
  },
  {
   "cell_type": "markdown",
   "id": "06df9ff3",
   "metadata": {},
   "source": [
    "## It works only if you own Mathematica, and will not work if Mathematica is running separately."
   ]
  },
  {
   "cell_type": "markdown",
   "id": "5c333311",
   "metadata": {},
   "source": [
    "## ㅡㅡㅡㅡㅡㅡㅡㅡㅡㅡㅡㅡㅡㅡㅡㅡㅡㅡㅡ"
   ]
  },
  {
   "cell_type": "markdown",
   "id": "aad99ee0",
   "metadata": {},
   "source": [
    "## In the code below, we cut off the sympy results whenever + and - occur and store them in a list. Each element in the stored list is converted into a dictionary with coefficient as the key and element of unitary as the key. Convert the key value to mathematica langauge and calculate the weingarten function using the mathematica IntU package. Calculate the expected value of purity by multiplying the calculated result by the coefficient and then adding them all together."
   ]
  },
  {
   "cell_type": "code",
   "execution_count": 19,
   "id": "d74f0a66",
   "metadata": {},
   "outputs": [],
   "source": [
    "def auto_mathematica(s, M, ML, kernel_path, path_to_intu):\n",
    "    result_U = []\n",
    "    result_wein = []\n",
    "    U, result, U_s, result_s_exp, result_s = purity_calculator(s, M, ML)\n",
    "    ##### 아래 부분은 weingarten function을 다 잘라서 listfh 저장하는거. ex) 3A + 4B -> [3A, 4B]\n",
    "    trace_expr = result_s_exp[0]\n",
    "    # Check if the expression is an instance of sympy.core.add.Add\n",
    "    if isinstance(trace_expr, sp.core.add.Add):\n",
    "        # Split the expression into separate terms and store them in a list\n",
    "        terms = list(trace_expr.as_ordered_terms())\n",
    "    else:\n",
    "        # If the expression is not a sum, store it as the only element in the list\n",
    "        terms = [trace_expr]\n",
    "    \n",
    "    #### 아래 부분은 나눠진 각각을 coeffocient와 unitary 부분으로 나눈거 ex) ->  \n",
    "    coeff_ml_M_2 = []\n",
    "\n",
    "    for i in range(len(terms)):\n",
    "        coeff_ml_M_2.append(terms[i].as_coefficients_dict())\n",
    "    #### 아래 부분은 unitary 부분을 mathematica에서 사용 가능한 format으로 바꾼 부분\n",
    "    with WolframLanguageSession(kernel_path) as session:\n",
    "    # Load the IntU package\n",
    "        session.evaluate(wlexpr(f'<< \"{path_to_intu}\"'))\n",
    "\n",
    "        # Set the value of d\n",
    "        session.evaluate(wlexpr(f'd = {M};'))\n",
    "\n",
    "        # Define your Mathematica command\n",
    "        #math_command = 'IntegrateUnitaryHaar[Conjugate[Subscript[u, 0, 0]]^2 Conjugate[Subscript[u, 1, 0]]^2 Subscript[u, 0, 0]^2 Subscript[u, 1, 0]^2, {u, d}]'\n",
    "        for j in range(len(terms)):\n",
    "            math_command = sympy_to_mathematica_complete_with_integration(latex(list(coeff_ml_M_2[j].keys())[0]))\n",
    "\n",
    "            result = session.evaluate(wlexpr(math_command))\n",
    "\n",
    "            if isinstance(result, type(wl.Rational(1, 210))):\n",
    "                # Extracting data from the WLFunction object\n",
    "                numerator = result.args[0]\n",
    "                denominator = result.args[1]\n",
    "                fraction_result = Fraction(numerator, denominator)\n",
    "            else:\n",
    "                # Directly create a Fraction from the output\n",
    "                fraction_result = Fraction(result)\n",
    "\n",
    "            result_U.append(fraction_result)\n",
    "            result_wein.append(fraction_result* list(coeff_ml_M_2[j].values())[0])\n",
    "    purity = 0\n",
    "    for k in range(len(result_wein)):\n",
    "        purity += result_wein[k]\n",
    "    return purity, result_U, result_wein, coeff_ml_M_2"
   ]
  },
  {
   "cell_type": "code",
   "execution_count": 20,
   "id": "99b3ade0",
   "metadata": {},
   "outputs": [
    {
     "name": "stdout",
     "output_type": "stream",
     "text": [
      "0.514285714285715\n"
     ]
    }
   ],
   "source": [
    "s = [1,1] # Example\n",
    "M = 4\n",
    "ML = 1\n",
    "kernel_path = '/Applications/Mathematica.app/Contents/MacOS/WolframKernel'\n",
    "path_to_intu = \"/Users/kimjaehee/IntU_copy/IntU.m\"\n",
    "purity, result_U, result_wein, coeff_ml_M_2 = auto_mathematica(s, M, ML, kernel_path, path_to_intu)\n",
    "print(purity)"
   ]
  },
  {
   "cell_type": "code",
   "execution_count": 123,
   "id": "c9102312",
   "metadata": {},
   "outputs": [
    {
     "name": "stdout",
     "output_type": "stream",
     "text": [
      "0.561904761904762\n"
     ]
    }
   ],
   "source": [
    "s = [1,1] # Example\n",
    "M = 5\n",
    "ML = 1\n",
    "kernel_path = '/Applications/Mathematica.app/Contents/MacOS/WolframKernel'\n",
    "path_to_intu = \"/Users/kimjaehee/IntU_copy/IntU.m\"\n",
    "purity, result_U, result_wein, coeff_ml_M_2 = auto_mathematica(s, M, ML, kernel_path, path_to_intu)\n",
    "print(purity)"
   ]
  },
  {
   "cell_type": "markdown",
   "id": "ef5934ec",
   "metadata": {},
   "source": [
    "## ㅡㅡㅡㅡㅡㅡㅡㅡㅡㅡㅡㅡㅡㅡㅡㅡㅡㅡㅡ"
   ]
  },
  {
   "cell_type": "code",
   "execution_count": null,
   "metadata": {},
   "outputs": [],
   "source": []
  }
 ],
 "metadata": {
  "kernelspec": {
   "display_name": "Python 3 (ipykernel)",
   "language": "python",
   "name": "python3"
  },
  "language_info": {
   "codemirror_mode": {
    "name": "ipython",
    "version": 3
   },
   "file_extension": ".py",
   "mimetype": "text/x-python",
   "name": "python",
   "nbconvert_exporter": "python",
   "pygments_lexer": "ipython3",
   "version": "3.8.16"
  }
 },
 "nbformat": 4,
 "nbformat_minor": 5
}
